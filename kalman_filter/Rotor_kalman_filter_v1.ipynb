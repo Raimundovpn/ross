{
 "cells": [
  {
   "cell_type": "code",
   "execution_count": null,
   "metadata": {},
   "outputs": [],
   "source": [
    "import ross as rs\n",
    "import numpy as np\n",
    "from numpy import dot\n",
    "from scipy import linalg as lg\n",
    "from scipy.linalg import expm"
   ]
  },
  {
   "cell_type": "markdown",
   "metadata": {},
   "source": [
    "# Loading the rotor shaft parameters\n"
   ]
  },
  {
   "cell_type": "code",
   "execution_count": null,
   "metadata": {},
   "outputs": [],
   "source": [
    "#========================================================================================================================================================================================================\n",
    "shaft_file =\"C://Users//Raimundo Neto//OneDrive - Universidade Federal do Rio Grande do Norte//Área de Trabalho//ROSS//Filtro de Kalman//ross//Dados ROTOR MVP//Dados ROTOR MVP a\\Modelo Rotodinâmico - Replicantes//Main//D6R6S_Rotor.xls\"\n",
    "shaft_D6R6S_Rotor = rs.ShaftElement.from_table(file=shaft_file, sheet_type=\"Model\", sheet_name=\"Model\")\n",
    "#=========================================================================================================================================================================================================================================="
   ]
  },
  {
   "cell_type": "markdown",
   "metadata": {},
   "source": [
    "# Loading the rotor bearings\n"
   ]
  },
  {
   "cell_type": "code",
   "execution_count": null,
   "metadata": {},
   "outputs": [],
   "source": [
    "#========================================================================================================================================================================================================================== \n",
    "file_path =\"C://Users//Raimundo Neto//OneDrive - Universidade Federal do Rio Grande do Norte//Área de Trabalho//ROSS//Filtro de Kalman//ross//Dados ROTOR MVP//Dados ROTOR MVP a\\Modelo Rotodinâmico - Replicantes//Main//D6R6S_Brg_St10_MinClr.xls\"\n",
    "bearing_D6R6S_Brg_St10_MinClr = rs.BearingElement.from_table(n=10, file=file_path)\n",
    "\n",
    "file_path =\"C://Users//Raimundo Neto//OneDrive - Universidade Federal do Rio Grande do Norte//Área de Trabalho//ROSS//Filtro de Kalman//ross//Dados ROTOR MVP//Dados ROTOR MVP a\\Modelo Rotodinâmico - Replicantes//Main//D6R6S_Brg_St90_MaxClr.xls\"\n",
    "bearing_D6R6S_Brg_St90_MaxClr= rs.BearingElement.from_table(n=90, file=file_path)\n",
    "#====================================================================================================================================================================================================================================================="
   ]
  },
  {
   "cell_type": "markdown",
   "metadata": {},
   "source": [
    "# Loading the rotor seals"
   ]
  },
  {
   "cell_type": "code",
   "execution_count": null,
   "metadata": {},
   "outputs": [],
   "source": [
    "#=============================================================================================================================================================================================================================\n",
    "file_path =\"C://Users//Raimundo Neto//OneDrive - Universidade Federal do Rio Grande do Norte//Área de Trabalho//ROSS//Filtro de Kalman//ross//Dados ROTOR MVP//Dados ROTOR MVP a\\Modelo Rotodinâmico - Replicantes//Main//D6R6S_DamperSeal_St72.xls\"\n",
    "SealElement_D6R6S_DamperSeal_St72= rs.SealElement.from_table(n=72, file=file_path)\n",
    "\n",
    "file_path =\"C://Users//Raimundo Neto//OneDrive - Universidade Federal do Rio Grande do Norte//Área de Trabalho//ROSS//Filtro de Kalman//ross//Dados ROTOR MVP//Dados ROTOR MVP a\\Modelo Rotodinâmico - Replicantes//Main//D6R6S_Laby_St26.xls\"\n",
    "SealElement_D6R6S_Laby_St26= rs.SealElement.from_table(n=26, file=file_path)\n",
    "\n",
    "file_path =\"C://Users//Raimundo Neto//OneDrive - Universidade Federal do Rio Grande do Norte//Área de Trabalho//ROSS//Filtro de Kalman//ross//Dados ROTOR MVP//Dados ROTOR MVP a\\Modelo Rotodinâmico - Replicantes//Main//D6R6S_Laby_St34.xls\"\n",
    "SealElement_D6R6S_Laby_St34= rs.SealElement.from_table(n=34, file=file_path)\n",
    "\n",
    "file_path =\"C://Users//Raimundo Neto//OneDrive - Universidade Federal do Rio Grande do Norte//Área de Trabalho//ROSS//Filtro de Kalman//ross//Dados ROTOR MVP//Dados ROTOR MVP a\\Modelo Rotodinâmico - Replicantes//Main//D6R6S_Laby_St39.xls\"\n",
    "SealElement_D6R6S_Laby_St39= rs.SealElement.from_table(n=39, file=file_path)\n",
    "\n",
    "file_path =\"C://Users//Raimundo Neto//OneDrive - Universidade Federal do Rio Grande do Norte//Área de Trabalho//ROSS//Filtro de Kalman//ross//Dados ROTOR MVP//Dados ROTOR MVP a\\Modelo Rotodinâmico - Replicantes//Main//D6R6S_Laby_St42.xls\"\n",
    "SealElement_D6R6S_Laby_St42= rs.SealElement.from_table(n=42, file=file_path)\n",
    "\n",
    "file_path =\"C://Users//Raimundo Neto//OneDrive - Universidade Federal do Rio Grande do Norte//Área de Trabalho//ROSS//Filtro de Kalman//ross//Dados ROTOR MVP//Dados ROTOR MVP a\\Modelo Rotodinâmico - Replicantes//Main//D6R6S_Laby_St50.xls\"\n",
    "SealElement_D6R6S_Laby_St50= rs.SealElement.from_table(n=50, file=file_path)\n",
    "\n",
    "file_path =\"C://Users//Raimundo Neto//OneDrive - Universidade Federal do Rio Grande do Norte//Área de Trabalho//ROSS//Filtro de Kalman//ross//Dados ROTOR MVP//Dados ROTOR MVP a\\Modelo Rotodinâmico - Replicantes//Main//D6R6S_Laby_St58.xls\"\n",
    "SealElement_D6R6S_Laby_St58= rs.SealElement.from_table(n=58, file=file_path)\n",
    "\n",
    "file_path =\"C://Users//Raimundo Neto//OneDrive - Universidade Federal do Rio Grande do Norte//Área de Trabalho//ROSS//Filtro de Kalman//ross//Dados ROTOR MVP//Dados ROTOR MVP a\\Modelo Rotodinâmico - Replicantes//Main//D6R6S_Laby_St63.xls\"\n",
    "SealElement_D6R6S_Laby_St63= rs.SealElement.from_table(n=63, file=file_path)\n",
    "\n",
    "file_path =\"C://Users//Raimundo Neto//OneDrive - Universidade Federal do Rio Grande do Norte//Área de Trabalho//ROSS//Filtro de Kalman//ross//Dados ROTOR MVP//Dados ROTOR MVP a\\Modelo Rotodinâmico - Replicantes//Main//D6R6S_QM_St46.xls\"\n",
    "bearing_D6R6S_QM_St46= rs.SealElement.from_table(n=46, file=file_path)\n",
    "\n",
    "bearings = [bearing_D6R6S_Brg_St10_MinClr,\n",
    "            bearing_D6R6S_Brg_St90_MaxClr,\n",
    "            bearing_D6R6S_QM_St46,\n",
    "            SealElement_D6R6S_DamperSeal_St72,\n",
    "            SealElement_D6R6S_Laby_St26,\n",
    "            SealElement_D6R6S_Laby_St34,\n",
    "            SealElement_D6R6S_Laby_St39,\n",
    "            SealElement_D6R6S_Laby_St42,\n",
    "            SealElement_D6R6S_Laby_St50,\n",
    "            SealElement_D6R6S_Laby_St58,\n",
    "            SealElement_D6R6S_Laby_St63,\n",
    "            ]\n",
    "#============================================================================================================================================================================================================================="
   ]
  },
  {
   "cell_type": "markdown",
   "metadata": {},
   "source": [
    "# Loading the rotor disks"
   ]
  },
  {
   "cell_type": "code",
   "execution_count": null,
   "metadata": {},
   "outputs": [],
   "source": [
    "#=======================================================================================================================================================================================================================\n",
    "shaft_file =\"C://Users//Raimundo Neto//OneDrive - Universidade Federal do Rio Grande do Norte//Área de Trabalho//ROSS//Filtro de Kalman//ross//Dados ROTOR MVP//Dados ROTOR MVP a\\Modelo Rotodinâmico - Replicantes//Main//D6R6S_Rotor.xls\"\n",
    "disk_D6R6S_Rotor = rs.DiskElement.from_table(file=shaft_file, sheet_name=\"More\")\n",
    "#=============================================================================================================================================================================================================================================="
   ]
  },
  {
   "cell_type": "markdown",
   "metadata": {},
   "source": [
    "# Rotor assembly"
   ]
  },
  {
   "cell_type": "code",
   "execution_count": null,
   "metadata": {},
   "outputs": [],
   "source": [
    "Rotor = rs.Rotor(shaft_elements=shaft_D6R6S_Rotor, bearing_elements=bearings, disk_elements=disk_D6R6S_Rotor)\n",
    "Rotor.plot_rotor().show()"
   ]
  },
  {
   "cell_type": "markdown",
   "metadata": {},
   "source": [
    "# 1 Static Analysis "
   ]
  },
  {
   "cell_type": "code",
   "execution_count": null,
   "metadata": {},
   "outputs": [],
   "source": [
    "static = Rotor.run_static()\n",
    "print(\"Disk forces - nodes\")\n",
    "print(Rotor.disk_forces_nodal)\n",
    "print(\"\")\n",
    "print(\"Disk forces - tags\")\n",
    "print(Rotor.disk_forces_tag)\n",
    "\n",
    "print(\"\")\n",
    "print(\"Bearing forces - nodes\")\n",
    "print(Rotor.bearing_forces_nodal)\n",
    "print(\"\")\n",
    "print(\"Bearing forces - tags\")\n",
    "print(Rotor.bearing_forces_tag)"
   ]
  },
  {
   "cell_type": "markdown",
   "metadata": {},
   "source": [
    "## Plotting free-body-diagram"
   ]
  },
  {
   "cell_type": "code",
   "execution_count": null,
   "metadata": {},
   "outputs": [],
   "source": [
    "static.plot_free_body_diagram().show()"
   ]
  },
  {
   "cell_type": "markdown",
   "metadata": {},
   "source": [
    "## Plotting deformation"
   ]
  },
  {
   "cell_type": "code",
   "execution_count": null,
   "metadata": {},
   "outputs": [],
   "source": [
    "static.plot_deformation()"
   ]
  },
  {
   "cell_type": "markdown",
   "metadata": {},
   "source": [
    "## Plotting shearing force diagram"
   ]
  },
  {
   "cell_type": "code",
   "execution_count": null,
   "metadata": {},
   "outputs": [],
   "source": [
    "static.plot_shearing_force()"
   ]
  },
  {
   "cell_type": "markdown",
   "metadata": {},
   "source": [
    "## Plotting bending moment diagram"
   ]
  },
  {
   "cell_type": "code",
   "execution_count": null,
   "metadata": {},
   "outputs": [],
   "source": [
    "static.plot_bending_moment()"
   ]
  },
  {
   "cell_type": "markdown",
   "metadata": {},
   "source": [
    "# 2 Modal Analysis"
   ]
  },
  {
   "cell_type": "code",
   "execution_count": null,
   "metadata": {},
   "outputs": [],
   "source": [
    "#Returning undamped natural frequencies\n",
    "rotor_speed = 100.0 # rad/s\n",
    "modal = Rotor.run_modal(rotor_speed)\n",
    "print(f\"Undamped natural frequencies:\\n {modal.wn}\")\n",
    "#Returning damped natural frequencies\n",
    "print(f\"Damped natural frequencies:\\n {modal.wd}\")\n",
    "#Returning the damping ratio\n",
    "print(f\"Damping ratio for each mode:\\n {modal.damping_ratio}\")\n",
    "#Returning logarithmic decrement\n",
    "print(f\"Logarithmic decrement for each mode:\\n {modal.log_dec}\")"
   ]
  },
  {
   "cell_type": "markdown",
   "metadata": {},
   "source": [
    "## Plotting 3D view"
   ]
  },
  {
   "cell_type": "code",
   "execution_count": null,
   "metadata": {},
   "outputs": [],
   "source": [
    "mode = 5\n",
    "modal.plot_mode_3d(mode).show()"
   ]
  },
  {
   "cell_type": "markdown",
   "metadata": {},
   "source": [
    "## Plotting 2D view"
   ]
  },
  {
   "cell_type": "code",
   "execution_count": null,
   "metadata": {},
   "outputs": [],
   "source": [
    "modal.plot_mode_2d(mode).show()"
   ]
  },
  {
   "cell_type": "markdown",
   "metadata": {},
   "source": [
    "# 3 Campbell Diagram "
   ]
  },
  {
   "cell_type": "code",
   "execution_count": null,
   "metadata": {},
   "outputs": [],
   "source": [
    "samples = 31\n",
    "speed_range = np.linspace(315, 1150, samples)\n",
    "\n",
    "campbell = Rotor.run_campbell(speed_range)\n",
    "campbell.plot(harmonics=[0.5, 1])\n"
   ]
  },
  {
   "cell_type": "markdown",
   "metadata": {},
   "source": [
    "# 4 Frequency Response "
   ]
  },
  {
   "cell_type": "code",
   "execution_count": null,
   "metadata": {},
   "outputs": [],
   "source": [
    "samples = 61\n",
    "speed_range = np.linspace(315, 1150, samples) # rads/s\n",
    "results1 = Rotor.run_freq_response(speed_range=speed_range)\n",
    "results1.speed_range.size\n",
    "results1_2 = Rotor.run_freq_response(cluster_points=True, num_points=5, num_modes=12)\n",
    "results1_2.speed_range.size"
   ]
  },
  {
   "cell_type": "markdown",
   "metadata": {},
   "source": [
    "## Plotting results - Bode Plot"
   ]
  },
  {
   "cell_type": "code",
   "execution_count": null,
   "metadata": {},
   "outputs": [],
   "source": [
    "plot = results1.plot(inp=105, out=105)\n",
    "# converting the first plot yaxis to log scale\n",
    "plot.update_yaxes(type=\"log\", row=1, col=1).show()\n"
   ]
  },
  {
   "cell_type": "markdown",
   "metadata": {},
   "source": [
    "# 5 Unbalance response"
   ]
  },
  {
   "cell_type": "code",
   "execution_count": null,
   "metadata": {},
   "outputs": [],
   "source": [
    "n1 = 29     #Node 29\n",
    "m1 = 0.003  #Magnitude 0.003 \n",
    "p1 = 0      #Phase 0\n",
    "\n",
    "n2 = 33     #Node 29\n",
    "m2 = 0.002  #Magnitude 0.003 \n",
    "p2 = 0      #Phase 0\n"
   ]
  },
  {
   "cell_type": "code",
   "execution_count": null,
   "metadata": {},
   "outputs": [],
   "source": [
    "\n",
    "frequency_range=np.linspace(315, 1150, 101) #Determines the frequency range in which the analysis is to be performed\n",
    "results2 = Rotor.run_unbalance_response([n1, n2], [m1, m2], [p1, p2], frequency_range)"
   ]
  },
  {
   "cell_type": "markdown",
   "metadata": {},
   "source": [
    "## Plotting results - Bode plot "
   ]
  },
  {
   "cell_type": "code",
   "execution_count": null,
   "metadata": {},
   "outputs": [],
   "source": [
    "# probe = (probe_node, probe_orientation)\n",
    "probe1 = (15, 45) # node 15, orientation 45º\n",
    "probe2 = (35, 45) # node 35, orientation 45º\n",
    "\n",
    "results2.plot(probe=[probe1, probe2], probe_units=\"degrees\")\n",
    "# converting the first plot yaxis to log scale\n",
    "plot2 = results2.plot(probe=[probe1, probe2], probe_units=\"rad\")\n",
    "plot2.update_yaxes(type=\"log\", row=1, col=1)\n",
    "plot2"
   ]
  },
  {
   "cell_type": "markdown",
   "metadata": {},
   "source": [
    " ## Plotting results - Deflected shape"
   ]
  },
  {
   "cell_type": "code",
   "execution_count": null,
   "metadata": {},
   "outputs": [],
   "source": [
    "results2.plot_deflected_shape(speed=649)"
   ]
  },
  {
   "cell_type": "markdown",
   "metadata": {},
   "source": [
    "# 6 Time response "
   ]
  },
  {
   "cell_type": "code",
   "execution_count": null,
   "metadata": {},
   "outputs": [],
   "source": [
    "speed = 600.0                            #Velocidade de rotação do rotor 600 rad/s\n",
    "time_samples = 1001                      #Número de amostras da análise temporal\n",
    "node = 43                                #Nó em que deseja-se fazer a análise\n",
    "t = np.linspace(0, 16, time_samples)     #Representação do vetor temperoal\n",
    "\n",
    "F = np.zeros((time_samples, Rotor.ndof)) #Criação de vetor de forças em uma matriz de zeros\n",
    "\n",
    "# component on direction x\n",
    "F[:, 4 * node + 0] = 10 * np.cos(2 * t)  # Alocação dos velores de força no nó 26 na direção x\n",
    "# component on direction y\n",
    "F[:, 4 * node + 1] = 10 * np.sin(2 * t)  # Alocação dos velores de força no nó 26 na direção y\n",
    "\n",
    "response3 = Rotor.run_time_response(speed, F, t) #resposta temporal com a força aplicada "
   ]
  },
  {
   "cell_type": "code",
   "execution_count": null,
   "metadata": {},
   "outputs": [],
   "source": [
    "probe1 = (3, 0)   # node 3, orientation 0° (X dir.)\n",
    "probe2 = (3, 90)  # node 3, orientation 90°(Y dir.)\n",
    "\n",
    "response3.plot_1d(probe=[probe1, probe2], probe_units=\"degree\")"
   ]
  },
  {
   "cell_type": "code",
   "execution_count": null,
   "metadata": {},
   "outputs": [],
   "source": [
    "node = 26                       #Nó em análise\n",
    "response3.plot_2d(node=node)    #Plotagem em 2d"
   ]
  },
  {
   "cell_type": "code",
   "execution_count": null,
   "metadata": {},
   "outputs": [],
   "source": [
    "response3.plot_3d()     #plotagem em 3d"
   ]
  },
  {
   "cell_type": "markdown",
   "metadata": {},
   "source": [
    "# 7 Undamped Critical Speed Map (UCS)"
   ]
  },
  {
   "cell_type": "code",
   "execution_count": null,
   "metadata": {},
   "outputs": [],
   "source": [
    "stiff_range = (6, 11)\n",
    "ucs_results = Rotor.run_ucs(stiffness_range=stiff_range, num=20, num_modes=16)\n",
    "ucs_fig = ucs_results.plot()\n",
    "ucs_fig"
   ]
  },
  {
   "cell_type": "markdown",
   "metadata": {},
   "source": [
    "# Construção do Filtro de Kalman"
   ]
  },
  {
   "cell_type": "code",
   "execution_count": null,
   "metadata": {},
   "outputs": [],
   "source": [
    "#dados do modelo de elementos finitos===================================================\n",
    "n_f=2                        #Número de cargas de desbalanceamento\n",
    "numero_elementos=99          #Número de elementos\n",
    "numero_nos=numero_elementos+1# Número de Nó's\n",
    "dof_por_no=4                 #Número de graus de liberdade por nó\n",
    "n_dof=numero_nos*dof_por_no+4  #Número total de graus de liberdade\n",
    "Omega= 600.0                 #Rotação do rotor em rad/s\n",
    "M=Rotor.M()                  #Matriz global de massa do rotor   \n",
    "K=Rotor.K(frequency=Omega)   #Matriz de rigidez do rotor na frequência estipulada\n",
    "G=Rotor.G()                  #Matriz de efeito girosópico\n",
    "C=Rotor.C(frequency=Omega)   #Matriz de amortecimento\n",
    "#======================================================================================="
   ]
  },
  {
   "cell_type": "code",
   "execution_count": null,
   "metadata": {},
   "outputs": [],
   "source": [
    "#Definição das matrizes de estados\n",
    "n_dof=Rotor.ndof #Número total de graus de liberdade\n",
    "n_F=1         #Número de graus onde a força de desbalanceamento é amplicada\n",
    "n_d=1         #Nùmero de seções medidas\n",
    "a11=np.zeros((n_dof,n_dof))\n",
    "a12=np.eye(n_dof)\n",
    "a21=dot(lg.inv(-1*M),K)\n",
    "a22=dot(lg.inv(-1*M),C-1j*Omega*G)\n",
    "A=np.vstack((np.hstack((a11,a12)),\n",
    "             np.hstack((a21,a22))))\n",
    "\n",
    "\n",
    "S_f=np.zeros((n_dof,n_F))\n",
    "oi=1\n",
    "S_f[2*numero_elementos+1]=1\n",
    "b11=np.zeros((n_dof,n_F))\n",
    "b21=dot(lg.inv(M),S_f)\n",
    "B=np.vstack((b11,\n",
    "             b21))\n",
    "\n"
   ]
  },
  {
   "cell_type": "code",
   "execution_count": null,
   "metadata": {},
   "outputs": [],
   "source": [
    "def PSI(k):\n",
    "    dt=1e-5\n",
    "    \n",
    "    g=np.array([1j*Omega*(k+1)*dt]).reshape(1,1)\n",
    "    tal1=90/dt*Omega**2*expm(g)\n",
    "\n",
    "    g1=np.array([(A*dt-np.ones((2*n_dof,2*n_dof))*1j*Omega*dt)]).reshape(2*n_dof,2*n_dof)\n",
    "    g2=np.array([3/4*(A-1j*Omega)*dt]).reshape(2*n_dof,2*n_dof)\n",
    "    g3=np.array([1/2*(A-1j*Omega)*dt]).reshape(2*n_dof,2*n_dof)\n",
    "    g4=np.array([1/4*(A-1j*Omega)*dt]).reshape(2*n_dof,2*n_dof)\n",
    "    t1=7*expm(g1)\n",
    "    t2=32*expm(g2)\n",
    "    t3=12*expm(g3)\n",
    "    t4=32*expm(g4)\n",
    "\n",
    "\n",
    "    tal2=t1+t2+t3+t4+7*np.eye(2*n_dof)\n",
    "\n",
    "    Tal=np.dot(tal1*tal2,B)\n",
    "    psi11=expm(A*dt)\n",
    "    psi12=Tal\n",
    "    psi21=np.zeros((n_F,2*n_dof))\n",
    "    psi22=np.eye(n_F)\n",
    "\n",
    "    Psi=np.vstack((np.hstack((psi11,psi12)),\n",
    "                   np.hstack((psi21,psi22))))\n",
    "    return Psi\n"
   ]
  },
  {
   "cell_type": "code",
   "execution_count": null,
   "metadata": {},
   "outputs": [],
   "source": [
    "class KalmanFilter(object):\n",
    "    def __init__(self, B = None, H = None, Q_a = None, R = None, P = None, x0 = None):\n",
    "\n",
    "        \"\"\" if(A is None or H is None):\n",
    "            raise ValueError(\"Set proper system dynamics.\")\"\"\"\n",
    "\n",
    "        self.n = PSI(0).shape[1]\n",
    "        self.m = H.shape[1]\n",
    "\n",
    "        \n",
    "        self.H = H\n",
    "        self.B = 0 if B is None else B\n",
    "        self.Q_a = np.eye(self.n) if Q_a is None else Q_a\n",
    "        self.R = np.eye(self.n) if R is None else R\n",
    "        self.P = np.eye(self.n) if P is None else P\n",
    "        self.x = np.zeros((self.n, 1)) if x0 is None else x0\n",
    "        self.C=None\n",
    "        self.media=[]\n",
    "        self.axu=[]\n",
    "\n",
    "    def predict(self, u = 0):\n",
    "        self.x = np.dot(PSI(u), self.x) \n",
    "        self.P = np.dot(np.dot(PSI(u), self.P), PSI(u).T) + self.Q_a\n",
    "        return self.x\n",
    "\n",
    "    def update(self, y):\n",
    "        self.axu.append(y)\n",
    "        self.media.append(sum(self.axu)/len(self.axu))\n",
    "        z = y - np.dot(self.H, self.x)\n",
    "        S = self.R + np.dot(self.H, np.dot(self.P, self.H.T))\n",
    "        K = np.dot(np.dot(self.P, self.H.T), lg.inv(S))\n",
    "        r=np.array([np.array(z).reshape(1,)-np.array(self.media)])\n",
    "        r1=np.array([np.array(z).reshape(1,)-np.array(self.media)]).T\n",
    "        self.C= sum(dot(r,r1))*1/len(self.axu)\n",
    "        self.R=self.C-np.dot(self.H, np.dot(self.P, self.H.T))\n",
    "        self.Q_a=dot(dot(K,self.C.reshape(1,1)),K.T)\n",
    "    \n",
    "\n",
    "        self.x = self.x + np.dot(K, z)\n",
    "        I = np.eye(self.n)\n",
    "        self.P = np.dot(np.dot(I - np.dot(K, self.H), self.P), \n",
    "        \t(I - np.dot(K, self.H)).T) + np.dot(np.dot(K, self.R), K.T)\n",
    "\n",
    "\n",
    "H = np.zeros((n_d,2*n_dof+n_F))\n",
    "H[0,2*numero_elementos+1]=1                             #Ponto de observação\n",
    "\n",
    "#Q=np.eye(2*n_dof)*0.0001 #modelo\n",
    "#R =np.eye(n_d)*0.002 #dado real\n",
    "#S=np.eye(n_F)*0.001 #modelo\n",
    "#P=np.eye(2*n_dof+n_F)*1000\n",
    "\n",
    "\n",
    "Q=np.eye(2*n_dof)*0.51e-5  #modelo\n",
    "R =np.eye(n_d)*1e-4        #dado real\n",
    "S=np.eye(n_F)*0.5e-5       #modelo  Matriz de covariância -- matriz de regularização\n",
    "P=np.eye(2*n_dof+n_F)*1e-4\n",
    "\n",
    "q11=Q\n",
    "q12=np.zeros((2*n_dof,n_F))\n",
    "q21=np.zeros((2*n_dof,n_F)) \n",
    "q22=S\n",
    "Q_a=np.vstack((np.hstack((q11,q12)),\n",
    "               np.hstack((q21.T,q22))))\n",
    "\n",
    "#A escolha dos elementos diagonais das matrizes de covariância Q e \n",
    "# R deve ser baseada na ordem de grandeza do vetor de estado e na \n",
    "# precisão dos sensores, respectivamente.Geralmente um valor constante é usado nessas diagonais. o\n",
    "#A solução é, no entanto, muito menos sensível a essas matrizes do que à matriz de regularização S.\n",
    "#A sensibilidade da solução à matriz de covariância do erro de estado inicial \n",
    "# P09 1 depende do tamanho deste erro, que é desconhecido, mas na maioria dos casos \n",
    "# basta atribuir valores muito grandes à diagonal desta matriz que tem o efeito de \n",
    "# tratar os erros iniciais tão grandes e fazendo com que o filtro ignore as estimativas iniciais.\n",
    "\n",
    "resposta_temporal_sem_ruido=response3.yout[:,4*46]"
   ]
  },
  {
   "cell_type": "code",
   "execution_count": null,
   "metadata": {},
   "outputs": [],
   "source": [
    "\n",
    "import matplotlib.pyplot as plt\n",
    "plt.plot(t,resposta_temporal_sem_ruido, label = 'Measurements',color='r')\n",
    "plt.legend()\n",
    "plt.show()"
   ]
  },
  {
   "cell_type": "code",
   "execution_count": null,
   "metadata": {},
   "outputs": [],
   "source": [
    "restposta_temporal_com_ruido = resposta_temporal_sem_ruido + np.random.normal(0, 1e-4, len(resposta_temporal_sem_ruido))\n",
    "kf = KalmanFilter(B=B, H = H, Q_a = Q_a,P=P, R = R)\n",
    "predictions = [] #Previsão dos deslocamentos\n",
    "\n",
    "i=0\n",
    "\n",
    "for z in restposta_temporal_com_ruido:\n",
    "    predictions.append(np.dot(H,  kf.predict(u=i))[0])\n",
    "    i+=1\n",
    "    print(i)\n",
    "    kf.update(z)"
   ]
  },
  {
   "cell_type": "code",
   "execution_count": null,
   "metadata": {},
   "outputs": [],
   "source": [
    "import matplotlib.pyplot as plt\n",
    "plt.plot(range(len(restposta_temporal_com_ruido)),restposta_temporal_com_ruido, label = 'Measurements',color='r')\n",
    "plt.plot(range(len(predictions)), np.array(predictions), label = 'Kalman Filter Prediction',color='k')\n",
    "plt.plot(range(len(predictions)), np.array(resposta_temporal_sem_ruido), label = 'actual value')\n",
    "plt.legend()\n",
    "plt.show()"
   ]
  }
 ],
 "metadata": {
  "kernelspec": {
   "display_name": "Python 3.9.13 64-bit (microsoft store)",
   "language": "python",
   "name": "python3"
  },
  "language_info": {
   "codemirror_mode": {
    "name": "ipython",
    "version": 3
   },
   "file_extension": ".py",
   "mimetype": "text/x-python",
   "name": "python",
   "nbconvert_exporter": "python",
   "pygments_lexer": "ipython3",
   "version": "3.9.13"
  },
  "orig_nbformat": 4,
  "vscode": {
   "interpreter": {
    "hash": "d9de96aef242776f7495ce0dfb0c02325babdfe6ab6a75da4ac455551c8951c4"
   }
  }
 },
 "nbformat": 4,
 "nbformat_minor": 2
}
